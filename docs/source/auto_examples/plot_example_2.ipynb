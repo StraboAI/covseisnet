{
  "cells": [
    {
      "cell_type": "code",
      "execution_count": null,
      "metadata": {
        "collapsed": false
      },
      "outputs": [],
      "source": [
        "%matplotlib inline"
      ]
    },
    {
      "cell_type": "markdown",
      "metadata": {},
      "source": [
        "\nSingle-station covariance matrix spectral width\n===============================================\n\n\nThis example shows how to calculate the spectral width of the interchannel spectral covariance matrix. It makes use of the obspy example trace available when installing obspy. This basic example does not apply any synchronization or pre-processing.\n\nConsidering a single seismic station with three channels (NS, EW, and Z), the covariance is of dimensions 3 times 3. The following example use a Fourier estimation window of 1 second and is estimated over 5 consecutive windows. The overlapping between the Fourier windows is 50%, and the step between two consecutive averaging window is 50%.\n\nThe lower the covariance matrix spectral width (dark blue), the more polarized the seismic wavefield (into a given direction). Note that the sampling rate of the seismic station is 100 Hz, the dark band at 50 Hz therefore corresponds to the Nyquist frequency (and should be disregarded).\n"
      ]
    },
    {
      "cell_type": "code",
      "execution_count": null,
      "metadata": {
        "collapsed": false
      },
      "outputs": [],
      "source": [
        "import covseisnet as csn\nimport obspy\nimport matplotlib.pyplot as plt\n\n\n# read ObsPy's example stream\nstream = obspy.read()\n\n# calculate covariance from stream\nwindow_duration_sec = 1.0\naverage = 5\ntimes, frequencies, covariances = csn.covariancematrix.calculate(\n    stream, window_duration_sec, average\n)\n\n# calculate spectral width\nspectral_width = covariances.coherence(kind=\"spectral_width\")\n\n# show covariance at first time window and first frequency\nfig, ax = plt.subplots(1, constrained_layout=True)\nimg = ax.pcolormesh(times, frequencies, spectral_width.T, rasterized=True)\nax.set_ylim([0, stream[0].stats.sampling_rate / 2])\nax.set_xlabel(\"Times (seconds)\")\nax.set_ylabel(\"Frequency (Hz)\")\nplt.colorbar(img).set_label(\"Covariance matrix spectral width\")"
      ]
    }
  ],
  "metadata": {
    "kernelspec": {
      "display_name": "Python 3",
      "language": "python",
      "name": "python3"
    },
    "language_info": {
      "codemirror_mode": {
        "name": "ipython",
        "version": 3
      },
      "file_extension": ".py",
      "mimetype": "text/x-python",
      "name": "python",
      "nbconvert_exporter": "python",
      "pygments_lexer": "ipython3",
      "version": "3.7.7"
    }
  },
  "nbformat": 4,
  "nbformat_minor": 0
}