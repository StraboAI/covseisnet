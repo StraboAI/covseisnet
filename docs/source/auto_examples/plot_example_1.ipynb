{
  "cells": [
    {
      "cell_type": "code",
      "execution_count": null,
      "metadata": {
        "collapsed": false
      },
      "outputs": [],
      "source": [
        "%matplotlib inline"
      ]
    },
    {
      "cell_type": "markdown",
      "metadata": {},
      "source": [
        "\nSingle-station covariance matrix\n================================\n\n\nThis example shows how to calculate the interchannel spectral covariance matrix. It makes use of the obspy example trace available when installing obspy. This basic example does not apply any synchronization or pre-processing.\n\nConsidering a single seismic station with three channels (NS, EW, and Z), the covariance is of dimensions 3 times 3. The following example use a Fourier estimation window of 1 second and is estimated over 5 consecutive windows.\n"
      ]
    },
    {
      "cell_type": "code",
      "execution_count": null,
      "metadata": {
        "collapsed": false
      },
      "outputs": [],
      "source": [
        "import covseisnet as csn\nimport obspy\nimport matplotlib.pyplot as plt\nimport numpy as np\n\nfrom matplotlib.ticker import MaxNLocator\n\n# read ObsPy's example stream\nstream = obspy.read()\nchannels = [s.stats.channel for s in stream]\n\n# calculate covariance from stream\nwindow_duration_sec = 1.0\naverage = 5\ntimes, frequencies, covariances = csn.covariancematrix.calculate(\n        stream, window_duration_sec, average\n    )\n\n# show covariance from first window and first frequency\ncovariance_show = np.abs(covariances[0, 0])\nfig, ax = plt.subplots(1, constrained_layout=True)\nimg = ax.imshow(covariance_show, origin='lower', cmap='cividis')\nax.set_xticks(range(len(channels)))\nax.set_xticklabels(channels)\nax.set_yticks(range(len(channels)))\nax.set_yticklabels(channels)\nax.set_title('Single-station multiple channels covariance')\nplt.colorbar(img, shrink=.6).set_label('Covariance modulus')"
      ]
    }
  ],
  "metadata": {
    "kernelspec": {
      "display_name": "Python 3",
      "language": "python",
      "name": "python3"
    },
    "language_info": {
      "codemirror_mode": {
        "name": "ipython",
        "version": 3
      },
      "file_extension": ".py",
      "mimetype": "text/x-python",
      "name": "python",
      "nbconvert_exporter": "python",
      "pygments_lexer": "ipython3",
      "version": "3.7.7"
    }
  },
  "nbformat": 4,
  "nbformat_minor": 0
}